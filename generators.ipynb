{
  "nbformat": 4,
  "nbformat_minor": 0,
  "metadata": {
    "colab": {
      "name": "generators.ipynb",
      "provenance": [],
      "collapsed_sections": [],
      "authorship_tag": "ABX9TyP3CYHKXzrLr611tsqFlOFG",
      "include_colab_link": true
    },
    "kernelspec": {
      "name": "python3",
      "display_name": "Python 3"
    }
  },
  "cells": [
    {
      "cell_type": "markdown",
      "metadata": {
        "id": "view-in-github",
        "colab_type": "text"
      },
      "source": [
        "<a href=\"https://colab.research.google.com/github/mikiereed/python_tutorials/blob/main/generators.ipynb\" target=\"_parent\"><img src=\"https://colab.research.google.com/assets/colab-badge.svg\" alt=\"Open In Colab\"/></a>"
      ]
    },
    {
      "cell_type": "markdown",
      "metadata": {
        "id": "H30yFOFPdHHa"
      },
      "source": [
        "from https://betterprogramming.pub/4-reasons-why-should-be-using-python-generators-660458b0085d\r\n",
        "\r\n",
        "author: Jordan Williams\r\n",
        "| article: 4 Reasons Why You Should Be Using Python Generators"
      ]
    },
    {
      "cell_type": "code",
      "metadata": {
        "id": "Qs8xGgZiPVRW"
      },
      "source": [
        "def gen1():\r\n",
        "    yield 'I am the bone of my sword'\r\n",
        "    yield 'Steel is my body and fire is my blood'\r\n",
        "    yield 'I have created over a thousand blades'"
      ],
      "execution_count": null,
      "outputs": []
    },
    {
      "cell_type": "code",
      "metadata": {
        "colab": {
          "base_uri": "https://localhost:8080/",
          "height": 255
        },
        "id": "cvtJn71hdj2n",
        "outputId": "541a7976-9914-4fa3-eeda-b4f65d68a62b"
      },
      "source": [
        "# initialize the generator\r\n",
        "temp_gen1 = gen1()\r\n",
        "\r\n",
        "# run through generator with 'next' keyword\r\n",
        "print(next(temp_gen1))\r\n",
        "print(next(temp_gen1))\r\n",
        "print(next(temp_gen1))\r\n",
        "print(next(temp_gen1)) # throws 'Stop Iteration'"
      ],
      "execution_count": null,
      "outputs": [
        {
          "output_type": "stream",
          "text": [
            "I am the bone of my sword\n",
            "Steel is my body and fire is my blood\n",
            "I have created over a thousand blades\n"
          ],
          "name": "stdout"
        },
        {
          "output_type": "error",
          "ename": "StopIteration",
          "evalue": "ignored",
          "traceback": [
            "\u001b[0;31m---------------------------------------------------------------------------\u001b[0m",
            "\u001b[0;31mStopIteration\u001b[0m                             Traceback (most recent call last)",
            "\u001b[0;32m<ipython-input-2-ab1347166029>\u001b[0m in \u001b[0;36m<module>\u001b[0;34m()\u001b[0m\n\u001b[1;32m      6\u001b[0m \u001b[0mprint\u001b[0m\u001b[0;34m(\u001b[0m\u001b[0mnext\u001b[0m\u001b[0;34m(\u001b[0m\u001b[0mtemp_gen1\u001b[0m\u001b[0;34m)\u001b[0m\u001b[0;34m)\u001b[0m\u001b[0;34m\u001b[0m\u001b[0;34m\u001b[0m\u001b[0m\n\u001b[1;32m      7\u001b[0m \u001b[0mprint\u001b[0m\u001b[0;34m(\u001b[0m\u001b[0mnext\u001b[0m\u001b[0;34m(\u001b[0m\u001b[0mtemp_gen1\u001b[0m\u001b[0;34m)\u001b[0m\u001b[0;34m)\u001b[0m\u001b[0;34m\u001b[0m\u001b[0;34m\u001b[0m\u001b[0m\n\u001b[0;32m----> 8\u001b[0;31m \u001b[0mprint\u001b[0m\u001b[0;34m(\u001b[0m\u001b[0mnext\u001b[0m\u001b[0;34m(\u001b[0m\u001b[0mtemp_gen1\u001b[0m\u001b[0;34m)\u001b[0m\u001b[0;34m)\u001b[0m \u001b[0;31m# throws 'Stop Iteration'\u001b[0m\u001b[0;34m\u001b[0m\u001b[0;34m\u001b[0m\u001b[0m\n\u001b[0m",
            "\u001b[0;31mStopIteration\u001b[0m: "
          ]
        }
      ]
    },
    {
      "cell_type": "code",
      "metadata": {
        "id": "jkMMdnS9d2ig"
      },
      "source": [
        "def gen2():\r\n",
        "    even = 0\r\n",
        "    print('initialize counter')\r\n",
        "\r\n",
        "    even += 2\r\n",
        "    print('first even')\r\n",
        "    yield even\r\n",
        "\r\n",
        "    even += 2\r\n",
        "    print('second even')\r\n",
        "    yield even\r\n",
        "\r\n",
        "    even += 2\r\n",
        "    print('third even')\r\n",
        "    yield even"
      ],
      "execution_count": null,
      "outputs": []
    },
    {
      "cell_type": "code",
      "metadata": {
        "colab": {
          "base_uri": "https://localhost:8080/"
        },
        "id": "PFQt9W-WtzPd",
        "outputId": "93757530-6676-4dd8-8d9e-d44501273ea2"
      },
      "source": [
        "# initialize the generator\r\n",
        "temp_gen2 = gen2()\r\n",
        "\r\n",
        "# run through generator with 'next' keyword\r\n",
        "print('------')\r\n",
        "print(next(temp_gen2))\r\n",
        "print('------')\r\n",
        "print(next(temp_gen2))\r\n",
        "print('------')\r\n",
        "print(next(temp_gen2))\r\n",
        "# print(next(temp_gen1)) # throws 'Stop Iteration'"
      ],
      "execution_count": null,
      "outputs": [
        {
          "output_type": "stream",
          "text": [
            "------\n",
            "initialize counter\n",
            "first even\n",
            "2\n",
            "------\n",
            "second even\n",
            "4\n",
            "------\n",
            "third even\n",
            "6\n"
          ],
          "name": "stdout"
        }
      ]
    },
    {
      "cell_type": "code",
      "metadata": {
        "id": "6GSZud4Dt77v"
      },
      "source": [
        "def gen_mR():\r\n",
        "    even = 0\r\n",
        "    print('initialize counter')\r\n",
        "    for i in range(3):\r\n",
        "        even += 2\r\n",
        "        print(i + 1)\r\n",
        "        yield even"
      ],
      "execution_count": null,
      "outputs": []
    },
    {
      "cell_type": "code",
      "metadata": {
        "colab": {
          "base_uri": "https://localhost:8080/"
        },
        "id": "EggMaYCRvgEq",
        "outputId": "f2cef89e-b531-4ea8-de7d-ab699a05773a"
      },
      "source": [
        "# initialize the generator\r\n",
        "temp_gen_mR = gen_mR()\r\n",
        "\r\n",
        "# run through generator with 'next' keyword\r\n",
        "print('------')\r\n",
        "print(next(temp_gen_mR))\r\n",
        "print('------')\r\n",
        "print(next(temp_gen_mR))\r\n",
        "print('------')\r\n",
        "print(next(temp_gen_mR))\r\n",
        "# print(next(temp_gen1)) # throws 'Stop Iteration'"
      ],
      "execution_count": null,
      "outputs": [
        {
          "output_type": "stream",
          "text": [
            "------\n",
            "initialize counter\n",
            "1\n",
            "2\n",
            "------\n",
            "2\n",
            "4\n",
            "------\n",
            "3\n",
            "6\n"
          ],
          "name": "stdout"
        }
      ]
    },
    {
      "cell_type": "code",
      "metadata": {
        "colab": {
          "base_uri": "https://localhost:8080/"
        },
        "id": "WCQGqzC4vmnK",
        "outputId": "5d3829e8-6a23-4d74-ccec-d5c23ed1153b"
      },
      "source": [
        "for even in gen1():\r\n",
        "    print(even)"
      ],
      "execution_count": null,
      "outputs": [
        {
          "output_type": "stream",
          "text": [
            "I am the bone of my sword\n",
            "Steel is my body and fire is my blood\n",
            "I have created over a thousand blades\n"
          ],
          "name": "stdout"
        }
      ]
    },
    {
      "cell_type": "code",
      "metadata": {
        "colab": {
          "base_uri": "https://localhost:8080/"
        },
        "id": "k-R_4ZA9v-Ka",
        "outputId": "2ed19ff9-7d97-4f0d-f313-e9cd6c911346"
      },
      "source": [
        "for even in gen2():\r\n",
        "    print(even)"
      ],
      "execution_count": null,
      "outputs": [
        {
          "output_type": "stream",
          "text": [
            "initialize counter\n",
            "first even\n",
            "2\n",
            "second even\n",
            "4\n",
            "third even\n",
            "6\n"
          ],
          "name": "stdout"
        }
      ]
    },
    {
      "cell_type": "code",
      "metadata": {
        "colab": {
          "base_uri": "https://localhost:8080/"
        },
        "id": "66VEoQvfwCvc",
        "outputId": "ecccece5-4ed2-4388-e01f-746d7b43bf0c"
      },
      "source": [
        "for even in gen_mR():\r\n",
        "    print(even)"
      ],
      "execution_count": null,
      "outputs": [
        {
          "output_type": "stream",
          "text": [
            "initialize counter\n",
            "1\n",
            "2\n",
            "2\n",
            "4\n",
            "3\n",
            "6\n"
          ],
          "name": "stdout"
        }
      ]
    },
    {
      "cell_type": "code",
      "metadata": {
        "id": "wOvA4O2iwF1j"
      },
      "source": [
        "def seq(start, end):\r\n",
        "    sequence = []\r\n",
        "\r\n",
        "    for i in range(start, end):\r\n",
        "        sequence.append(i)\r\n",
        "\r\n",
        "    return sequence"
      ],
      "execution_count": null,
      "outputs": []
    },
    {
      "cell_type": "code",
      "metadata": {
        "colab": {
          "base_uri": "https://localhost:8080/"
        },
        "id": "pgYKpUacxXNo",
        "outputId": "fb6e9599-df7a-4914-b40a-7cdfc063092b"
      },
      "source": [
        "import time\r\n",
        "\r\n",
        "start_time = time.time()\r\n",
        "\r\n",
        "data = seq(100, 100_000_000)\r\n",
        "\r\n",
        "end_time = time.time()\r\n",
        "\r\n",
        "print(f'execution time: {end_time - start_time}')"
      ],
      "execution_count": null,
      "outputs": [
        {
          "output_type": "stream",
          "text": [
            "execution time: 8.507720470428467\n"
          ],
          "name": "stdout"
        }
      ]
    },
    {
      "cell_type": "code",
      "metadata": {
        "id": "dUTuyK5PxrZ4"
      },
      "source": [
        "def seq_generator(start, end):\r\n",
        "    for i in range(start, end):\r\n",
        "        yield i"
      ],
      "execution_count": null,
      "outputs": []
    },
    {
      "cell_type": "code",
      "metadata": {
        "colab": {
          "base_uri": "https://localhost:8080/"
        },
        "id": "SH4_nxKTyDwY",
        "outputId": "aadecb2f-d597-49b4-ea21-6c0bdac66930"
      },
      "source": [
        "start_time = time.time()\r\n",
        "\r\n",
        "data = seq_generator(100, 100_000_000)\r\n",
        "\r\n",
        "# running through the data still takes time\r\n",
        "# for _ in data:\r\n",
        "#     pass\r\n",
        "\r\n",
        "end_time = time.time()\r\n",
        "\r\n",
        "print(f'execution time: {end_time - start_time}')"
      ],
      "execution_count": null,
      "outputs": [
        {
          "output_type": "stream",
          "text": [
            "execution time: 4.291534423828125e-05\n"
          ],
          "name": "stdout"
        }
      ]
    },
    {
      "cell_type": "code",
      "metadata": {
        "colab": {
          "base_uri": "https://localhost:8080/"
        },
        "id": "-9djgoJhyHkY",
        "outputId": "71e05ab6-c260-4090-a7ed-c8420ebeeee7"
      },
      "source": [
        "map_list = [1, 2, 3, 4, 5]\r\n",
        "map_list = map(lambda x: x**x, map_list)\r\n",
        "print(map_list)\r\n",
        "print(next(map_list))\r\n",
        "print(next(map_list))\r\n",
        "print(next(map_list))\r\n",
        "print(next(map_list))\r\n",
        "print(next(map_list))"
      ],
      "execution_count": null,
      "outputs": [
        {
          "output_type": "stream",
          "text": [
            "<map object at 0x7fb005480c10>\n",
            "1\n",
            "4\n",
            "27\n",
            "256\n",
            "3125\n"
          ],
          "name": "stdout"
        }
      ]
    },
    {
      "cell_type": "code",
      "metadata": {
        "colab": {
          "base_uri": "https://localhost:8080/"
        },
        "id": "rLWURgnRzTj6",
        "outputId": "75056735-baf8-48ab-9d5b-82f5e406f208"
      },
      "source": [
        "filter_list = [1, 2, 3, 4, 5]\r\n",
        "filter_list = filter(lambda x: x > 2, filter_list)\r\n",
        "\r\n",
        "print(filter_list)\r\n",
        "print(next(filter_list))\r\n",
        "print(next(filter_list))\r\n",
        "print(next(filter_list))\r\n"
      ],
      "execution_count": null,
      "outputs": [
        {
          "output_type": "stream",
          "text": [
            "<filter object at 0x7fb00b7db690>\n",
            "3\n",
            "4\n",
            "5\n"
          ],
          "name": "stdout"
        }
      ]
    },
    {
      "cell_type": "code",
      "metadata": {
        "id": "cKDTpFlr1G4n"
      },
      "source": [
        "# infinite sequences\r\n",
        "def infinite_seq():\r\n",
        "    count = 1\r\n",
        "    while True:\r\n",
        "        yield count ** 2\r\n",
        "        count += 1"
      ],
      "execution_count": null,
      "outputs": []
    },
    {
      "cell_type": "code",
      "metadata": {
        "colab": {
          "base_uri": "https://localhost:8080/"
        },
        "id": "jK75VR1IA-ED",
        "outputId": "cb045076-fbe4-4459-9ab1-b8b9abb19059"
      },
      "source": [
        "# initialize the generator\r\n",
        "temp_gen_infinite_seq = infinite_seq()\r\n",
        "\r\n",
        "# run through generator with 'next' keyword\r\n",
        "print('------')\r\n",
        "print(next(temp_gen_infinite_seq))\r\n",
        "print('------')\r\n",
        "print(next(temp_gen_infinite_seq))\r\n",
        "print('------')\r\n",
        "print(next(temp_gen_infinite_seq))\r\n",
        "print('------')\r\n",
        "print(next(temp_gen_infinite_seq))\r\n",
        "print('------')\r\n",
        "print(next(temp_gen_infinite_seq))\r\n",
        "print('------')\r\n",
        "print(next(temp_gen_infinite_seq))\r\n",
        "print('------')\r\n",
        "print(next(temp_gen_infinite_seq))\r\n",
        "print('------')\r\n",
        "print(next(temp_gen_infinite_seq))\r\n",
        "print('------')\r\n",
        "print(next(temp_gen_infinite_seq))\r\n",
        "print('------')\r\n",
        "print(next(temp_gen_infinite_seq))\r\n",
        "print('------')\r\n",
        "print(next(temp_gen_infinite_seq))\r\n",
        "print('------')\r\n",
        "print(next(temp_gen_infinite_seq))\r\n",
        "\r\n",
        "# will never throw Stop Iteration"
      ],
      "execution_count": null,
      "outputs": [
        {
          "output_type": "stream",
          "text": [
            "------\n",
            "1\n",
            "------\n",
            "4\n",
            "------\n",
            "9\n",
            "------\n",
            "16\n",
            "------\n",
            "25\n",
            "------\n",
            "36\n",
            "------\n",
            "49\n",
            "------\n",
            "64\n",
            "------\n",
            "81\n",
            "------\n",
            "100\n",
            "------\n",
            "121\n",
            "------\n",
            "144\n"
          ],
          "name": "stdout"
        }
      ]
    },
    {
      "cell_type": "code",
      "metadata": {
        "colab": {
          "base_uri": "https://localhost:8080/"
        },
        "id": "fs6JZ23zBQK8",
        "outputId": "6fe1533b-e634-4d6d-8607-b47694cb206f"
      },
      "source": [
        "list_comprehension = [i ** 2 for i in range(5)]\r\n",
        "list_generator = (i ** 2 for i in range(5)) # curly braces instead of brackets\r\n",
        "\r\n",
        "print(list_generator)\r\n",
        "print(next(list_generator))\r\n",
        "print(next(list_generator))\r\n",
        "print(next(list_generator))\r\n"
      ],
      "execution_count": null,
      "outputs": [
        {
          "output_type": "stream",
          "text": [
            "<generator object <genexpr> at 0x7faf437ec650>\n",
            "0\n",
            "1\n",
            "4\n"
          ],
          "name": "stdout"
        }
      ]
    },
    {
      "cell_type": "code",
      "metadata": {
        "id": "_35vGJ3sCO31"
      },
      "source": [
        ""
      ],
      "execution_count": null,
      "outputs": []
    }
  ]
}