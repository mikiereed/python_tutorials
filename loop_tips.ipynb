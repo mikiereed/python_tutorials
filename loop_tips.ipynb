{
  "nbformat": 4,
  "nbformat_minor": 0,
  "metadata": {
    "colab": {
      "name": "loop tips.ipynb",
      "provenance": [],
      "authorship_tag": "ABX9TyNskiWXNQ62sCRoqWx5Bcet",
      "include_colab_link": true
    },
    "kernelspec": {
      "name": "python3",
      "display_name": "Python 3"
    }
  },
  "cells": [
    {
      "cell_type": "markdown",
      "metadata": {
        "id": "view-in-github",
        "colab_type": "text"
      },
      "source": [
        "<a href=\"https://colab.research.google.com/github/mikiereed/python_tutorials/blob/main/loop_tips.ipynb\" target=\"_parent\"><img src=\"https://colab.research.google.com/assets/colab-badge.svg\" alt=\"Open In Colab\"/></a>"
      ]
    },
    {
      "cell_type": "markdown",
      "metadata": {
        "id": "HlWk8wezOPPF"
      },
      "source": [
        "Five Cool Python Looping Tips | Emmett Boudreau\r\n",
        "https://towardsdatascience.com/five-cool-python-looping-tips-14f6f44bcfc7"
      ]
    },
    {
      "cell_type": "code",
      "metadata": {
        "colab": {
          "base_uri": "https://localhost:8080/"
        },
        "id": "UB0avJq7OJmL",
        "outputId": "47180ea9-2c13-481e-a6f2-a09941960ef7"
      },
      "source": [
        "# using zip to combine and run through two lists at once\r\n",
        "odds = [1, 3, 5, 7, 9]\r\n",
        "evens = [2, 4, 6, 8, 10]\r\n",
        "\r\n",
        "for odd_number, even_number in zip(odds, evens):\r\n",
        "    print(odd_number)\r\n",
        "    print(even_number)"
      ],
      "execution_count": 1,
      "outputs": [
        {
          "output_type": "stream",
          "text": [
            "1\n",
            "2\n",
            "3\n",
            "4\n",
            "5\n",
            "6\n",
            "7\n",
            "8\n",
            "9\n",
            "10\n"
          ],
          "name": "stdout"
        }
      ]
    },
    {
      "cell_type": "code",
      "metadata": {
        "colab": {
          "base_uri": "https://localhost:8080/"
        },
        "id": "fQTWm5O8O7Kq",
        "outputId": "72ecb875-a91f-4afe-a100-e7bb75e25808"
      },
      "source": [
        "# enumerate\r\n",
        "\r\n",
        "test_list = [1, 5, 10]\r\n",
        "data = dict(enumerate(test_list))\r\n",
        "print(data)"
      ],
      "execution_count": 5,
      "outputs": [
        {
          "output_type": "stream",
          "text": [
            "{0: 1, 1: 5, 2: 10}\n"
          ],
          "name": "stdout"
        }
      ]
    },
    {
      "cell_type": "code",
      "metadata": {
        "colab": {
          "base_uri": "https://localhost:8080/"
        },
        "id": "lAi3WXjtPiTd",
        "outputId": "b92bdfe7-d49f-4ff8-9224-9bdc09cd4e86"
      },
      "source": [
        "# sorted\r\n",
        "\r\n",
        "test_list = [2, 3, 8, 1, 4, 0]\r\n",
        "for i in sorted(test_list):\r\n",
        "    print(i)\r\n",
        "\r\n",
        "print(test_list)"
      ],
      "execution_count": 6,
      "outputs": [
        {
          "output_type": "stream",
          "text": [
            "0\n",
            "1\n",
            "2\n",
            "3\n",
            "4\n",
            "8\n",
            "[2, 3, 8, 1, 4, 0]\n"
          ],
          "name": "stdout"
        }
      ]
    },
    {
      "cell_type": "code",
      "metadata": {
        "colab": {
          "base_uri": "https://localhost:8080/"
        },
        "id": "K8eWEillQlMt",
        "outputId": "0ef72a8a-e8cb-4903-bea2-961c3291bbff"
      },
      "source": [
        "people = [{\"name\": \"John\", \"id\": 1},\r\n",
        "          {\"name\": \"Mike\", \"id\": 4},\r\n",
        "          {\"name\": \"Sandra\", \"id\": 2},\r\n",
        "          {\"name\": \"Jennifer\", \"id\": 3},\r\n",
        "          ]\r\n",
        "\r\n",
        "for person in filter(lambda i: i[\"id\"] % 2 == 0, people):\r\n",
        "    print(person)"
      ],
      "execution_count": 8,
      "outputs": [
        {
          "output_type": "stream",
          "text": [
            "{'name': 'Mike', 'id': 4}\n",
            "{'name': 'Sandra', 'id': 2}\n"
          ],
          "name": "stdout"
        }
      ]
    },
    {
      "cell_type": "code",
      "metadata": {
        "id": "ujhia6L9XkZ1"
      },
      "source": [
        ""
      ],
      "execution_count": null,
      "outputs": []
    }
  ]
}